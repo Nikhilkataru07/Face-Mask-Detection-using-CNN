{
 "cells": [
  {
   "cell_type": "markdown",
   "metadata": {},
   "source": [
    "# Detecting Faces with and without masks\n",
    "\n",
    "![](three.png)"
   ]
  },
  {
   "cell_type": "code",
   "execution_count": 8,
   "metadata": {},
   "outputs": [],
   "source": [
    "from keras.models import load_model\n",
    "import cv2\n",
    "import numpy as np"
   ]
  },
  {
   "cell_type": "markdown",
   "metadata": {},
   "source": [
    "Best model\n",
    "\"model-016.model\" \n",
    "\n",
    "Epoch 16/20\n",
    "989/989 [==============================] - 62s 62ms/step - loss: 0.0425 - accuracy: 0.9838 - val_loss: 0.2673 - val_accuracy: 0.9032"
   ]
  },
  {
   "cell_type": "code",
   "execution_count": 10,
   "metadata": {},
   "outputs": [],
   "source": [
    "#Load model method to load the best model\n",
    "model = load_model('model-016.model')\n",
    "\n",
    "face_clsfr=cv2.CascadeClassifier('haarcascade_frontalface_default.xml')\n",
    "\n",
    "#2 arrays to predict  face with mask or wihout mask in the detected image\n",
    "#mask found->0\n",
    "#wear mask->1\n",
    "\n",
    "source=cv2.VideoCapture(0)\n",
    "labels_dict={0:'MASK FOUND',1:'WEAR MASK'}\n",
    "\n",
    "#The bounding rectangle will be green for WITH MASK and red for WITHOUT MASK\n",
    "\n",
    "color_dict={0:(0,255,0),1:(0,0,255)}"
   ]
  },
  {
   "cell_type": "code",
   "execution_count": null,
   "metadata": {},
   "outputs": [],
   "source": []
  },
  {
   "cell_type": "code",
   "execution_count": 7,
   "metadata": {},
   "outputs": [],
   "source": [
    "#inside the infinite the loop we are going to read frame by frame form the camera\n",
    "#and going to get the frame to this image and do the same as per the training data i.e. converting it into grayscale image\n",
    "#then going to detect faces with mask and without mask by going through each and every face\n",
    "\n",
    "\n",
    "while(True):\n",
    "    #For each and every face going to crop the ROI Region Of Interest \n",
    "    ret,img=source.read()\n",
    "    gray=cv2.cvtColor(img,cv2.COLOR_BGR2GRAY)\n",
    "    faces=face_clsfr.detectMultiScale(gray,1.3,5) \n",
    "   \n",
    "\n",
    "    for (x,y,w,h) in faces:\n",
    "    \n",
    "        #get the resized that is divide by 255 to normalize\n",
    "        #and  reshape it to 4D since the CNN takes the 4D input\n",
    "        face_img=gray[y:y+w,x:x+w]\n",
    "        resized=cv2.resize(face_img,(100,100))\n",
    "        normalized=resized/255.0\n",
    "        reshaped=np.reshape(normalized,(1,100,100,1))\n",
    "        #Im going to use the best model model numXXX  of epoch YY\n",
    "        #For that neural network model im going to get the predictions\n",
    "        result=model.predict(reshaped)\n",
    "        #next pass the reshaped and resized image..\n",
    "        #result will be taken here\n",
    "        #then going to get armax function in numpy \n",
    "        #it will give us the column number since we given the axis number 1,so it will return column number with max probability\n",
    "        #i.e.,p1 is max-> face with mask or p2 is max ->face without mask\n",
    "        #0->mask found, 1->wear mask\n",
    "\n",
    "        label=np.argmax(result,axis=1)[0]\n",
    "      \n",
    "        cv2.rectangle(img,(x,y),(x+w,y+h),color_dict[label],2)\n",
    "        cv2.rectangle(img,(x,y-40),(x+w,y),color_dict[label],-1)\n",
    "        cv2.putText(img, labels_dict[label], (x, y-10),cv2.FONT_HERSHEY_SIMPLEX,0.8,(255,255,255),2)\n",
    "        \n",
    "        \n",
    "    cv2.imshow('LIVE',img)\n",
    "    key=cv2.waitKey(1)\n",
    "    \n",
    "    if(key==27):\n",
    "        break\n",
    "\n",
    "#If user press ESC key loop will terminated and windows will be destroyed.\n",
    "cv2.destroyAllWindows()\n",
    "source.release()"
   ]
  },
  {
   "cell_type": "markdown",
   "metadata": {},
   "source": [
    "![](four.png)"
   ]
  },
  {
   "cell_type": "code",
   "execution_count": null,
   "metadata": {},
   "outputs": [],
   "source": []
  }
 ],
 "metadata": {
  "kernelspec": {
   "display_name": "Python 3",
   "language": "python",
   "name": "python3"
  },
  "language_info": {
   "codemirror_mode": {
    "name": "ipython",
    "version": 3
   },
   "file_extension": ".py",
   "mimetype": "text/x-python",
   "name": "python",
   "nbconvert_exporter": "python",
   "pygments_lexer": "ipython3",
   "version": "3.7.9"
  }
 },
 "nbformat": 4,
 "nbformat_minor": 2
}
