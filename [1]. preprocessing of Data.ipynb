{
 "cells": [
  {
   "cell_type": "markdown",
   "metadata": {},
   "source": [
    "# Face Mask Detection using Convolutional Neural Network"
   ]
  },
  {
   "cell_type": "markdown",
   "metadata": {},
   "source": [
    "\n",
    "# a. Dataset\n",
    "\n",
    "The dataset consists of around 1376 images, of which 690 face images are with masks and 686 are without masks. \n"
   ]
  },
  {
   "cell_type": "markdown",
   "metadata": {},
   "source": [
    "# b. Data Preprocessing\n",
    "![](one.png)\n"
   ]
  },
  {
   "cell_type": "markdown",
   "metadata": {},
   "source": [
    "First we get image with Face  then apply it to \"Cascade Classifier\" and it will detect the Region Of Interest-ROI \n",
    "i.e X,Y,H and W parameters,this ROI (Region Of Interest) is further resized into 100x100 image.\n",
    "We pass this pretrained CNN which further gives an output as probability \"MASK FOUND\" or \"WEAR MASK\". [p1 or p2]"
   ]
  },
  {
   "cell_type": "markdown",
   "metadata": {},
   "source": [
    "Converting all images into Grayscale image and resize them into 100x100 since we need all images to be of same size for training."
   ]
  },
  {
   "cell_type": "code",
   "execution_count": 16,
   "metadata": {},
   "outputs": [
    {
     "name": "stdout",
     "output_type": "stream",
     "text": [
      "{'mask found': 0, 'wear mask': 1}\n",
      "['mask found', 'wear mask']\n",
      "[0, 1]\n"
     ]
    }
   ],
   "source": [
    "import cv2,os\n",
    "\n",
    "#path for dataset location\n",
    "data_path='dataset'\n",
    "\n",
    "#loading the folder names into CATEGORIES\n",
    "categories=os.listdir(data_path)\n",
    "\n",
    "#creating arrays for labels 0 and 1\n",
    "labels=[i for i in range(len(categories))]\n",
    "\n",
    "#dictionary for labels\n",
    "label_dict=dict(zip(categories,labels)) \n",
    "\n",
    "#keys as folder names\n",
    "#lables as 0 and 1\n",
    "print(label_dict)\n",
    "print(categories)\n",
    "print(labels)"
   ]
  },
  {
   "cell_type": "code",
   "execution_count": 17,
   "metadata": {},
   "outputs": [],
   "source": [
    "#image size declaration 100x100\n",
    "img_size=100\n",
    "\n",
    "#empty python list data and target to save images and target labels.\n",
    "data=[]\n",
    "target=[]\n",
    "\n",
    "#go through all the two folders(categories)\n",
    "#then create a folder path for dataset.\n",
    "#then load all the images..\n",
    "\n",
    "for category in categories:\n",
    "    folder_path=os.path.join(data_path,category)\n",
    "    img_names=os.listdir(folder_path)\n",
    "    \n",
    "    #for loop going through each and every image inside that folder and load all the images there..\n",
    "    #Those images will be converted to gray and resize to 100x100\n",
    "    #append the resized images to data..\n",
    "    #and append 0 and 1 to target\n",
    "    #try and exception concepts implemented because incase if images are not available\n",
    "    #then error can raise which can be handled using this try and exception concepts\n",
    "    \n",
    "        \n",
    "    for img_name in img_names:\n",
    "        img_path=os.path.join(folder_path,img_name)\n",
    "        img=cv2.imread(img_path)\n",
    "\n",
    "        try:\n",
    "            gray=cv2.cvtColor(img,cv2.COLOR_BGR2GRAY)           \n",
    "            #Coverting the image into gray scale\n",
    "            resized=cv2.resize(gray,(img_size,img_size))\n",
    "            data.append(resized)\n",
    "            target.append(label_dict[category])\n",
    "            #appending the image and the label(categorized) into the list (dataset)\n",
    "\n",
    "        except Exception as e:\n",
    "            print('Exception:',e)\n",
    "            #if any exception rasied, the exception will be printed here. And pass to the next image"
   ]
  },
  {
   "cell_type": "code",
   "execution_count": 18,
   "metadata": {},
   "outputs": [],
   "source": [
    "import numpy as np\n",
    "#normalize the images first we divide it by 255.0 to convert the pixel range into 0 and 1\n",
    "#reshape into 4 d array as Neural Network requires 4d array\n",
    "#1 because gray scale image\n",
    "#target --convert into numpy arrray and convert into categorial representation..\n",
    "#since last layer has 2 neurons are faces with and without mask\n",
    "#therefore categorial representation is needed.\n",
    "\n",
    "data=np.array(data)/255.0\n",
    "data=np.reshape(data,(data.shape[0],img_size,img_size,1))\n",
    "target=np.array(target)\n",
    "\n",
    "from keras.utils import np_utils\n",
    "\n",
    "new_target=np_utils.to_categorical(target)"
   ]
  },
  {
   "cell_type": "code",
   "execution_count": 19,
   "metadata": {},
   "outputs": [],
   "source": [
    "#save the data and target..\n",
    "#data->images\n",
    "#target contains whethers its face with mask and without face mask\n",
    "\n",
    "np.save('data',data)\n",
    "np.save('target',new_target)"
   ]
  },
  {
   "cell_type": "code",
   "execution_count": null,
   "metadata": {},
   "outputs": [],
   "source": []
  },
  {
   "cell_type": "code",
   "execution_count": null,
   "metadata": {},
   "outputs": [],
   "source": []
  }
 ],
 "metadata": {
  "kernelspec": {
   "display_name": "Python 3",
   "language": "python",
   "name": "python3"
  },
  "language_info": {
   "codemirror_mode": {
    "name": "ipython",
    "version": 3
   },
   "file_extension": ".py",
   "mimetype": "text/x-python",
   "name": "python",
   "nbconvert_exporter": "python",
   "pygments_lexer": "ipython3",
   "version": "3.7.9"
  }
 },
 "nbformat": 4,
 "nbformat_minor": 2
}
