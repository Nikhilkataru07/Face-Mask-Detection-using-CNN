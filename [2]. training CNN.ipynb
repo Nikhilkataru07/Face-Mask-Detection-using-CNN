{
 "cells": [
  {
   "cell_type": "markdown",
   "metadata": {},
   "source": [
    "# Convolutional Neural Network Architecture\n",
    "\n",
    "![](two.png)\n",
    "\n",
    "CNN architecture consists of TWO Convolutional Layers.The input is 100x100 image.1st Convolutional layer 2D contains 200 3x3 kernals.And the 2nd Convolutional 2D layer contains 100 3x3 kernals. Next we flatten these convolutionals that we got from the above 2 convolutional layers.And these are finally connected to dense layer of 50 neurons then the output layers which has 2 neurons,MASK FOUND & WEAR MASK one for each.\n"
   ]
  },
  {
   "cell_type": "code",
   "execution_count": 17,
   "metadata": {},
   "outputs": [],
   "source": [
    "import numpy as np\n",
    "#load the dataset that we just saved in the preprocessing code\n",
    "#loading the dataset into DATA & TARGET\n",
    "data=np.load('data.npy')\n",
    "target=np.load('target.npy')\n",
    "\n"
   ]
  },
  {
   "cell_type": "code",
   "execution_count": 14,
   "metadata": {},
   "outputs": [],
   "source": [
    "\n",
    "\n",
    "from keras.models import Sequential\n",
    "from keras.layers import Dense,Activation,Flatten,Dropout\n",
    "from keras.layers import Conv2D,MaxPooling2D\n",
    "from keras.callbacks import ModelCheckpoint\n",
    "\n",
    "model=Sequential()\n",
    "#Here in this Neural Network architecture this CNN uses first layer with 200 3x3 kernals\n",
    "#Followed by RELU \n",
    "#and next is the MaxPooling layer of size 2x2\n",
    "model.add(Conv2D(200,(3,3),input_shape=data.shape[1:]))\n",
    "model.add(Activation('relu'))\n",
    "model.add(MaxPooling2D(pool_size=(2,2)))\n",
    "\n",
    "#This is Second layer with 100 3x3 kernals\n",
    "#Followed by RELU \n",
    "#and next is the MaxPooling layer of size 2x2\n",
    "model.add(Conv2D(100,(3,3)))\n",
    "model.add(Activation('relu'))\n",
    "model.add(MaxPooling2D(pool_size=(2,2)))\n",
    "\n",
    "#Flatten layer to stack the output convolutions from second convolution layer\n",
    "#Flatten layer,dropout layer to get rid of over fitting as it reduces over fitting\n",
    "\n",
    "model.add(Flatten())\n",
    "model.add(Dropout(0.5))\n",
    "#Dense layer of 50 neurons\n",
    "model.add(Dense(50,activation='relu'))\n",
    "#Dense layer of 2 neurons\n",
    "model.add(Dense(2,activation='softmax'))\n",
    "\n",
    "#The Final layer with two outputs for two categories\n",
    "#Using adam optimizer to print accuracy while training\n",
    "\n",
    "model.compile(loss='categorical_crossentropy',optimizer='adam',metrics=['accuracy'])"
   ]
  },
  {
   "cell_type": "code",
   "execution_count": 15,
   "metadata": {},
   "outputs": [],
   "source": [
    "#split into train and test\n",
    "\n",
    "\n",
    "from sklearn.model_selection import train_test_split\n",
    "\n",
    "train_data,test_data,train_target,test_target=train_test_split(data,target,test_size=0.1)"
   ]
  },
  {
   "cell_type": "code",
   "execution_count": 16,
   "metadata": {},
   "outputs": [
    {
     "name": "stdout",
     "output_type": "stream",
     "text": [
      "Train on 989 samples, validate on 248 samples\n",
      "Epoch 1/20\n",
      "989/989 [==============================] - 62s 63ms/step - loss: 0.7699 - accuracy: 0.5197 - val_loss: 0.6907 - val_accuracy: 0.5645\n",
      "Epoch 2/20\n",
      "989/989 [==============================] - 59s 60ms/step - loss: 0.6281 - accuracy: 0.6754 - val_loss: 0.5958 - val_accuracy: 0.6492\n",
      "Epoch 3/20\n",
      "989/989 [==============================] - 57s 57ms/step - loss: 0.4610 - accuracy: 0.7877 - val_loss: 0.4721 - val_accuracy: 0.7742\n",
      "Epoch 4/20\n",
      "989/989 [==============================] - 59s 60ms/step - loss: 0.2836 - accuracy: 0.8959 - val_loss: 0.3693 - val_accuracy: 0.8548\n",
      "Epoch 5/20\n",
      "989/989 [==============================] - 59s 60ms/step - loss: 0.2347 - accuracy: 0.8999 - val_loss: 0.3769 - val_accuracy: 0.8226\n",
      "Epoch 6/20\n",
      "989/989 [==============================] - 62s 62ms/step - loss: 0.1765 - accuracy: 0.9414 - val_loss: 0.3254 - val_accuracy: 0.8669\n",
      "Epoch 7/20\n",
      "989/989 [==============================] - 60s 60ms/step - loss: 0.1524 - accuracy: 0.9383 - val_loss: 0.3624 - val_accuracy: 0.8589\n",
      "Epoch 8/20\n",
      "989/989 [==============================] - 57s 58ms/step - loss: 0.1071 - accuracy: 0.9676 - val_loss: 0.2911 - val_accuracy: 0.8871\n",
      "Epoch 9/20\n",
      "989/989 [==============================] - 56s 56ms/step - loss: 0.0981 - accuracy: 0.9636 - val_loss: 0.3371 - val_accuracy: 0.8871\n",
      "Epoch 10/20\n",
      "989/989 [==============================] - 56s 56ms/step - loss: 0.0762 - accuracy: 0.9717 - val_loss: 0.3077 - val_accuracy: 0.8911\n",
      "Epoch 11/20\n",
      "989/989 [==============================] - 56s 56ms/step - loss: 0.0427 - accuracy: 0.9858 - val_loss: 0.3331 - val_accuracy: 0.8992\n",
      "Epoch 12/20\n",
      "989/989 [==============================] - 56s 57ms/step - loss: 0.0274 - accuracy: 0.9929 - val_loss: 0.3494 - val_accuracy: 0.8952\n",
      "Epoch 13/20\n",
      "989/989 [==============================] - 58s 59ms/step - loss: 0.0658 - accuracy: 0.9778 - val_loss: 0.3025 - val_accuracy: 0.8911\n",
      "Epoch 14/20\n",
      "989/989 [==============================] - 60s 61ms/step - loss: 0.0378 - accuracy: 0.9889 - val_loss: 0.3088 - val_accuracy: 0.9073\n",
      "Epoch 15/20\n",
      "989/989 [==============================] - 57s 58ms/step - loss: 0.0317 - accuracy: 0.9909 - val_loss: 0.3607 - val_accuracy: 0.8952\n",
      "Epoch 16/20\n",
      "989/989 [==============================] - 62s 62ms/step - loss: 0.0425 - accuracy: 0.9838 - val_loss: 0.2673 - val_accuracy: 0.9032\n",
      "Epoch 17/20\n",
      "989/989 [==============================] - 64s 64ms/step - loss: 0.0245 - accuracy: 0.9929 - val_loss: 0.3338 - val_accuracy: 0.9153\n",
      "Epoch 18/20\n",
      "989/989 [==============================] - 60s 61ms/step - loss: 0.0328 - accuracy: 0.9828 - val_loss: 0.4066 - val_accuracy: 0.8831\n",
      "Epoch 19/20\n",
      "989/989 [==============================] - 57s 58ms/step - loss: 0.0422 - accuracy: 0.9869 - val_loss: 0.3514 - val_accuracy: 0.9113\n",
      "Epoch 20/20\n",
      "989/989 [==============================] - 55s 55ms/step - loss: 0.0291 - accuracy: 0.9909 - val_loss: 0.3534 - val_accuracy: 0.9032\n"
     ]
    }
   ],
   "source": [
    "#create a model checkpoint to save and monitor the validation loss and save the best model for each epoch\n",
    "#if validation loss increase after a epoch it will not be saved,,\n",
    "#otherwise the saving the best model per each epoch\n",
    "\n",
    "checkpoint = ModelCheckpoint('model-{epoch:03d}.model',monitor='val_loss',verbose=0,save_best_only=True,mode='auto')\n",
    "#training using model.fit for 20 epochs,and 20% validation data\n",
    "history=model.fit(train_data,train_target,epochs=20,callbacks=[checkpoint],validation_split=0.2)"
   ]
  },
  {
   "cell_type": "code",
   "execution_count": 19,
   "metadata": {},
   "outputs": [
    {
     "data": {
      "image/png": "[encoded data removed]",
      "text/plain": [
       "<Figure size 432x288 with 1 Axes>"
      ]
     },
     "metadata": {
      "needs_background": "light"
     },
     "output_type": "display_data"
    }
   ],
   "source": [
    "#here epoch with minimum validation loss is noted\n",
    "from matplotlib import pyplot as plt\n",
    "#Graphs for loss and epochs\n",
    "plt.plot(history.history['loss'],'r',label='training loss')\n",
    "plt.plot(history.history['val_loss'],label='validation loss')\n",
    "plt.xlabel('# epochs')\n",
    "plt.ylabel('loss')\n",
    "plt.legend()\n",
    "plt.show()"
   ]
  },
  {
   "cell_type": "code",
   "execution_count": 20,
   "metadata": {},
   "outputs": [
    {
     "name": "stdout",
     "output_type": "stream",
     "text": [
      "1237/1237 [==============================] - 19s 16ms/step\n",
      "[0.07781365122977364, 0.978173017501831]\n"
     ]
    }
   ],
   "source": [
    "#Training accuracy\n",
    "print(model.evaluate(train_data,train_target))"
   ]
  },
  {
   "cell_type": "code",
   "execution_count": 21,
   "metadata": {},
   "outputs": [
    {
     "data": {
      "image/png": "[encoded data removed]",
      "text/plain": [
       "<Figure size 432x288 with 1 Axes>"
      ]
     },
     "metadata": {
      "needs_background": "light"
     },
     "output_type": "display_data"
    }
   ],
   "source": [
    "#accuracy for graphs\n",
    "plt.plot(history.history['accuracy'],'r',label='training accuracy')\n",
    "plt.plot(history.history['val_accuracy'],label='validation accuracy')\n",
    "plt.xlabel('# epochs')\n",
    "plt.ylabel('loss')\n",
    "plt.legend()\n",
    "plt.show()"
   ]
  },
  {
   "cell_type": "code",
   "execution_count": 22,
   "metadata": {},
   "outputs": [
    {
     "name": "stdout",
     "output_type": "stream",
     "text": [
      "138/138 [==============================] - 2s 16ms/step\n",
      "[0.13621544233266858, 0.9710144996643066]\n"
     ]
    }
   ],
   "source": [
    "#Test accuracy\n",
    "print(model.evaluate(test_data,test_target))"
   ]
  },
  {
   "cell_type": "code",
   "execution_count": null,
   "metadata": {},
   "outputs": [],
   "source": []
  },
  {
   "cell_type": "code",
   "execution_count": null,
   "metadata": {},
   "outputs": [],
   "source": []
  }
 ],
 "metadata": {
  "kernelspec": {
   "display_name": "Python 3",
   "language": "python",
   "name": "python3"
  },
  "language_info": {
   "codemirror_mode": {
    "name": "ipython",
    "version": 3
   },
   "file_extension": ".py",
   "mimetype": "text/x-python",
   "name": "python",
   "nbconvert_exporter": "python",
   "pygments_lexer": "ipython3",
   "version": "3.7.9"
  }
 },
 "nbformat": 4,
 "nbformat_minor": 2
}
